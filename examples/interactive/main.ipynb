{
 "cells": [
  {
   "cell_type": "markdown",
   "metadata": {},
   "source": [
    "<center><h1> HeadTailAssigner (HTA) Interactive version </h1></center>"
   ]
  },
  {
   "cell_type": "markdown",
   "metadata": {},
   "source": [
    "Welcome to the HTA interactive version, where you can test our package using a Jupyter Notebook. Please be aware that this is a demo version and some functionalities are limited. To use the package to its full extent please be use it in the terminal. Instructions on how to use HTA in terminal can be found in the second example in [non-interactive](examples\\non-interactive).\n",
    "\n",
    "This package has been developed by Brenda Ferrari, Ronaldo Giro and Mathias Steiner and a paper will be available in the next months."
   ]
  },
  {
   "cell_type": "markdown",
   "metadata": {},
   "source": [
    "With this Jupyter Notebook you can test the head and tail assignment using HTA for one and multiple monomers. For multiple monomers we have a limit of 50 monomers per run, so for bulky runs please use the package in terminal. Also, this demo does not assign head and tail of polymers provided in a reaction structure, for that it is also necessary to run HTA in the terminal."
   ]
  },
  {
   "cell_type": "markdown",
   "metadata": {},
   "source": [
    "Start by initializing the interactive modules:"
   ]
  },
  {
   "cell_type": "code",
   "execution_count": null,
   "metadata": {},
   "outputs": [],
   "source": [
    "from utils.input import Input\n",
    "from utils.run import Run"
   ]
  },
  {
   "cell_type": "markdown",
   "metadata": {},
   "source": [
    "Next step is to add your input. This demo is under development, so if you want to update your input please run the cell again. To add just one monomer, choose the option \"One polymer\" and add your SMILES string. The demo already offers one SMILES example for testing purposes, which is already displayed on the input box. To add more than one monomer, choose the option \"Multiple polymers\" and add your file. The demo accepts csv and txt files but it is important to follow an specific format. The demo already offers a file called \"input.csv\" for testing purposes that is already formatted as it should be for the demo. If you prepare a new file for test please follow the same format."
   ]
  },
  {
   "cell_type": "code",
   "execution_count": null,
   "metadata": {},
   "outputs": [],
   "source": [
    "inp = Input()\n",
    "inp"
   ]
  },
  {
   "cell_type": "markdown",
   "metadata": {},
   "source": [
    "Just run the next cell to run the assignment. First a dataframe will appear with your input, next the HTA package will start running and the output will appear in a command line format in real time. In this way, it is possible to check the run in real time. At the end the results will be displayed as a dataframe with the image of the polymers with the head and tail assigned below."
   ]
  },
  {
   "cell_type": "code",
   "execution_count": null,
   "metadata": {},
   "outputs": [],
   "source": [
    "run = Run()\n",
    "run.run_HTA(inp.get)"
   ]
  },
  {
   "cell_type": "markdown",
   "metadata": {},
   "source": [
    "You can access the results generated in the last step on the file \"results.csv\" located in the interactive folder level."
   ]
  },
  {
   "cell_type": "markdown",
   "metadata": {},
   "source": [
    "If you have any questions be welcomed to contact us by opening an issue on the [HTA github](https://github.com/IBM/HeadTailAssign). We will try to answer as soon as possible. If you use HTA in your research please do not forget to cite us."
   ]
  },
  {
   "cell_type": "markdown",
   "metadata": {},
   "source": [
    "____________"
   ]
  }
 ],
 "metadata": {
  "kernelspec": {
   "display_name": "headtailassign",
   "language": "python",
   "name": "python3"
  },
  "language_info": {
   "codemirror_mode": {
    "name": "ipython",
    "version": 3
   },
   "file_extension": ".py",
   "mimetype": "text/x-python",
   "name": "python",
   "nbconvert_exporter": "python",
   "pygments_lexer": "ipython3",
   "version": "3.6.15"
  }
 },
 "nbformat": 4,
 "nbformat_minor": 2
}
